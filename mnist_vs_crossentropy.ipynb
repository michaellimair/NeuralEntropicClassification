{
 "cells": [
  {
   "cell_type": "code",
   "execution_count": 1,
   "metadata": {},
   "outputs": [],
   "source": [
    "from math import log\n",
    "import torch\n",
    "import torch.nn as nn\n",
    "import torch.nn.functional as F\n",
    "import torch.optim as optim\n",
    "import torchvision\n",
    "import torchvision.transforms as transforms\n",
    "import torchvision.datasets as datasets"
   ]
  },
  {
   "cell_type": "code",
   "execution_count": 2,
   "metadata": {},
   "outputs": [],
   "source": [
    "params = {\n",
    "    'batch_size': 128, #size of the batches\n",
    "    'image_size': 32, #size of each image dimension\n",
    "    'lr': 0.0001, #adam: learning rate\n",
    "    'b1': 0.5, #adam: decay of first order momentum of gradient\n",
    "    'b2': 0.999, #adam: decay of first order momentum of gradient\n",
    "}"
   ]
  },
  {
   "cell_type": "code",
   "execution_count": 3,
   "metadata": {},
   "outputs": [],
   "source": [
    "transform = transforms.Compose([\n",
    "#     transforms.Grayscale(num_output_channels=1),\n",
    "    transforms.Resize(params['image_size']),\n",
    "    transforms.ToTensor(),\n",
    "#     transforms.Lambda(lambda x: x.repeat(3,1,1)),\n",
    "    transforms.Normalize(mean=(0.5,), std=(0.5,))\n",
    "])"
   ]
  },
  {
   "cell_type": "code",
   "execution_count": 4,
   "metadata": {},
   "outputs": [],
   "source": [
    "trainset = datasets.MNIST(root='./data', train='train',\n",
    "                       download=True, transform=transform)\n",
    "\n",
    "testset = datasets.MNIST(root='./data', train=False,\n",
    "                      download=True, transform=transform)\n",
    "\n",
    "train_size = int(0.8 * len(trainset))\n",
    "val_size = len(trainset) - train_size\n",
    "train_set, val_set = torch.utils.data.random_split(trainset, [train_size, val_size])\n",
    "\n",
    "trainloader = torch.utils.data.DataLoader(train_set, batch_size=params['batch_size'], pin_memory=True,\n",
    "                                          shuffle=True)\n",
    "valloader = torch.utils.data.DataLoader(val_set, batch_size=params['batch_size'], pin_memory=True,\n",
    "                                          shuffle=True)\n",
    "testloader = torch.utils.data.DataLoader(testset, batch_size=params['batch_size'], pin_memory=True,\n",
    "                                         shuffle=False)\n",
    "\n",
    "classes = ('0', '1', '2', '3', '4', '5', '6', '7', '8', '9')"
   ]
  },
  {
   "cell_type": "code",
   "execution_count": 5,
   "metadata": {
    "scrolled": true
   },
   "outputs": [
    {
     "data": {
      "text/plain": [
       "<Figure size 640x480 with 1 Axes>"
      ]
     },
     "metadata": {},
     "output_type": "display_data"
    },
    {
     "name": "stdout",
     "output_type": "stream",
     "text": [
      "    4     9     2     1\n"
     ]
    }
   ],
   "source": [
    "import matplotlib.pyplot as plt\n",
    "import numpy as np\n",
    "\n",
    "# functions to show an image\n",
    "\n",
    "\n",
    "def imshow(img):\n",
    "    img = img / 2 + 0.5     # unnormalize\n",
    "    npimg = img.numpy()\n",
    "    plt.imshow(np.transpose(npimg, (1, 2, 0)))\n",
    "    plt.show()\n",
    "\n",
    "\n",
    "# get some random training images\n",
    "dataiter = iter(trainloader)\n",
    "images, labels = dataiter.next()\n",
    "\n",
    "# show images\n",
    "imshow(torchvision.utils.make_grid(images))\n",
    "# print labels\n",
    "print(' '.join('%5s' % classes[labels[j]] for j in range(4)))"
   ]
  },
  {
   "cell_type": "code",
   "execution_count": 6,
   "metadata": {},
   "outputs": [],
   "source": [
    "def weights_init(m):\n",
    "    \"\"\"\n",
    "    Initialise weights of the model.\n",
    "    \"\"\"\n",
    "    if(type(m) == nn.ConvTranspose2d or type(m) == nn.Conv2d):\n",
    "        nn.init.normal_(m.weight.data, 0.0, 0.02)\n",
    "    elif(type(m) == nn.BatchNorm2d):\n",
    "        nn.init.normal_(m.weight.data, 1.0, 0.02)\n",
    "        nn.init.constant_(m.bias.data, 0)"
   ]
  },
  {
   "cell_type": "code",
   "execution_count": 7,
   "metadata": {},
   "outputs": [],
   "source": [
    "# Basic architecture implemented in the PyTorch tutorial\n",
    "# https://pytorch.org/tutorials/beginner/blitz/neural_networks_tutorial.html\n",
    "class Net(nn.Module):\n",
    "    def __init__(self):\n",
    "        super(Net, self).__init__()\n",
    "        # 1 input image channel, 6 output channels, 3x3 square convolution\n",
    "        # kernel\n",
    "        self.conv1 = nn.Conv2d(1, 6, kernel_size=[3,3], padding=1, stride=1)\n",
    "        self.conv2 = nn.Conv2d(6, 16, kernel_size=[3,3], padding=1, stride=1)\n",
    "        # an affine operation: y = Wx + b\n",
    "        self.fc1 = nn.Linear(16 * 8 * 8, 120)  # 6*6 from image dimension\n",
    "        self.fc2 = nn.Linear(120, 84)\n",
    "        self.fc3 = nn.Linear(84, 10)\n",
    "        self.max_pooling = nn.MaxPool2d(kernel_size=(2,2), stride=2)\n",
    "\n",
    "    def forward(self, x):\n",
    "        # Max pooling over a (2, 2) window\n",
    "        x = self.max_pooling(F.relu(self.conv1(x)))\n",
    "        # If the size is a square you can only specify a single number\n",
    "        x = self.max_pooling(F.relu(self.conv2(x)))\n",
    "        x = x.view(-1, self.num_flat_features(x))\n",
    "        x = F.relu(self.fc1(x))\n",
    "        x = F.relu(self.fc2(x))\n",
    "        x = self.fc3(x)\n",
    "        return x\n",
    "    \n",
    "    def num_flat_features(self, x):\n",
    "        size = x.size()[1:]  # all dimensions except the batch dimension\n",
    "        num_features = 1\n",
    "        for s in size:\n",
    "            num_features *= s\n",
    "        return num_features"
   ]
  },
  {
   "cell_type": "code",
   "execution_count": 8,
   "metadata": {},
   "outputs": [],
   "source": [
    "# loss fucntion of neural entropic estimation for classification\n",
    "# loss = E(f(x*,x,y)) - E[ln(1/|y|) * sum_y(e^f(x*,x,y))]\n",
    "\n",
    "def loss_func(x_output, y):\n",
    "    # TODO: Check gradient function\n",
    "    f_label = torch.zeros([128])\n",
    "    for idx, class_lbl in enumerate(y):\n",
    "        f_label[idx] = x_output[idx][class_lbl]\n",
    "    mean_f = f_label.mean()  # E(f(x*,x,y))\n",
    "    mean_class = torch.log(torch.sum(torch.exp(x_output), 1)).mean()\n",
    "    loss = -(mean_f - mean_class)\n",
    "    return loss"
   ]
  },
  {
   "cell_type": "code",
   "execution_count": 9,
   "metadata": {
    "scrolled": false
   },
   "outputs": [
    {
     "name": "stdout",
     "output_type": "stream",
     "text": [
      "Successfully initialized neural network...\n",
      "Training neural network with neural entropic loss...\n",
      "Epoch  0 Accuracy : 59 %\n",
      "Epoch  0 Loss :  2.128115333557129\n",
      "Epoch  1 Accuracy : 81 %\n",
      "Epoch  1 Loss :  0.8493805395762125\n",
      "Epoch  2 Accuracy : 86 %\n",
      "Epoch  2 Loss :  0.5259322675069174\n",
      "Epoch  3 Accuracy : 88 %\n",
      "Epoch  3 Loss :  0.4190302899678548\n",
      "Epoch  4 Accuracy : 89 %\n",
      "Epoch  4 Loss :  0.35719392903645836\n",
      "Epoch  5 Accuracy : 90 %\n",
      "Epoch  5 Loss :  0.3128042704264323\n",
      "Epoch  6 Accuracy : 92 %\n",
      "Epoch  6 Loss :  0.277102237701416\n",
      "Epoch  7 Accuracy : 93 %\n",
      "Epoch  7 Loss :  0.24617511494954428\n",
      "Epoch  8 Accuracy : 93 %\n",
      "Epoch  8 Loss :  0.22098937225341797\n",
      "Epoch  9 Accuracy : 94 %\n",
      "Epoch  9 Loss :  0.1997900899251302\n",
      "Epoch  10 Accuracy : 94 %\n",
      "Epoch  10 Loss :  0.18162892405192058\n",
      "Epoch  11 Accuracy : 94 %\n",
      "Epoch  11 Loss :  0.16761983235677083\n",
      "Epoch  12 Accuracy : 94 %\n",
      "Epoch  12 Loss :  0.15521331787109374\n",
      "Epoch  13 Accuracy : 95 %\n",
      "Epoch  13 Loss :  0.14522868855794271\n",
      "Epoch  14 Accuracy : 95 %\n",
      "Epoch  14 Loss :  0.1362270991007487\n",
      "Epoch  15 Accuracy : 95 %\n",
      "Epoch  15 Loss :  0.12853479258219402\n",
      "Epoch  16 Accuracy : 95 %\n",
      "Epoch  16 Loss :  0.12175738271077474\n",
      "Epoch  17 Accuracy : 96 %\n",
      "Epoch  17 Loss :  0.11663604482014973\n",
      "Epoch  18 Accuracy : 96 %\n",
      "Epoch  18 Loss :  0.11083121744791667\n",
      "Epoch  19 Accuracy : 96 %\n",
      "Epoch  19 Loss :  0.10665733337402344\n",
      "Finished Training\n"
     ]
    }
   ],
   "source": [
    "# Neural network with cross entropy loss\n",
    "net = Net()\n",
    "net.apply(weights_init)\n",
    "print(\"Successfully initialized neural network...\")\n",
    "criterion = nn.CrossEntropyLoss()\n",
    "optimizer = optim.Adam(net.parameters(), lr=params['lr'], betas=(params['b1'], params['b2']))\n",
    "\n",
    "minee_accuracy = []\n",
    "minee_loss = []\n",
    "minee_entropy = []\n",
    "\n",
    "print(\"Training neural network with neural entropic loss...\")\n",
    "for epoch in range(20):  # loop over the dataset multiple times\n",
    "\n",
    "    running_loss = 0.0\n",
    "    for i, data in enumerate(trainloader, 0):\n",
    "        # get the inputs; data is a list of [inputs, labels]\n",
    "        inputs, labels = data\n",
    "\n",
    "        # zero the parameter gradients\n",
    "        optimizer.zero_grad()\n",
    "\n",
    "        # forward + backward + optimize\n",
    "        outputs = net(inputs)\n",
    "        loss = loss_func(outputs, labels)\n",
    "        loss.backward(retain_graph=True)\n",
    "        optimizer.step()\n",
    "        \n",
    "        running_loss += loss.item()\n",
    "        # print statistics\n",
    "#         running_loss += loss.item()\n",
    "#         if i % 100 == 99:    # print every 100 mini-batches\n",
    "#             print('[%d, %5d] loss: %.3f' %\n",
    "#                   (epoch + 1, i + 1, running_loss / 200))\n",
    "#             running_loss = 0.0\n",
    "    correct = 0\n",
    "    total = 0\n",
    "    with torch.no_grad():\n",
    "        for data in valloader:\n",
    "            images, labels = data\n",
    "            outputs = net(images)\n",
    "            _, predicted = torch.max(outputs.data, 1)\n",
    "            total += labels.size(0)\n",
    "            correct += torch.sum(predicted == labels).item()\n",
    "            \n",
    "    minee_accuracy.append(correct / total)\n",
    "    minee_loss.append(running_loss/(i+1))\n",
    "    minee_entropy.append(running_loss/(i+1))\n",
    "    \n",
    "    print('Epoch ', epoch, 'Accuracy : %d %%' % (\n",
    "        100 * correct / total))\n",
    "    print('Epoch ', epoch, 'Loss : ', running_loss/(i+1))\n",
    "\n",
    "print('Finished Training')"
   ]
  },
  {
   "cell_type": "code",
   "execution_count": 10,
   "metadata": {},
   "outputs": [
    {
     "name": "stdout",
     "output_type": "stream",
     "text": [
      "Successfully initialized neural network...\n",
      "Training neural network with neural entropic loss...\n",
      "Epoch  0 Accuracy : 67 %\n",
      "Epoch  1 Accuracy : 85 %\n",
      "Epoch  2 Accuracy : 88 %\n",
      "Epoch  3 Accuracy : 89 %\n",
      "Epoch  4 Accuracy : 91 %\n",
      "Epoch  5 Accuracy : 91 %\n",
      "Epoch  6 Accuracy : 92 %\n",
      "Epoch  7 Accuracy : 93 %\n",
      "Epoch  8 Accuracy : 93 %\n",
      "Epoch  9 Accuracy : 94 %\n",
      "Epoch  10 Accuracy : 94 %\n",
      "Epoch  11 Accuracy : 94 %\n",
      "Epoch  12 Accuracy : 95 %\n",
      "Epoch  13 Accuracy : 95 %\n",
      "Epoch  14 Accuracy : 95 %\n",
      "Epoch  15 Accuracy : 96 %\n",
      "Epoch  16 Accuracy : 96 %\n",
      "Epoch  17 Accuracy : 96 %\n",
      "Epoch  18 Accuracy : 96 %\n",
      "Epoch  19 Accuracy : 96 %\n",
      "Finished Training\n"
     ]
    }
   ],
   "source": [
    "# Neural network with cross entropy loss\n",
    "net = Net()\n",
    "net.apply(weights_init)\n",
    "criterion = nn.CrossEntropyLoss()\n",
    "optimizer = optim.Adam(net.parameters(), lr=params['lr'], betas=(params['b1'], params['b2']))\n",
    "print(\"Successfully initialized neural network...\")\n",
    "\n",
    "cross_accuracy = []\n",
    "\n",
    "print(\"Training neural network with neural entropic loss...\")\n",
    "for epoch in range(20):  # loop over the dataset multiple times\n",
    "\n",
    "    running_loss = 0.0\n",
    "    for i, data in enumerate(trainloader, 0):\n",
    "        # get the inputs; data is a list of [inputs, labels]\n",
    "        inputs, labels = data\n",
    "\n",
    "        # zero the parameter gradients\n",
    "        optimizer.zero_grad()\n",
    "\n",
    "        # forward + backward + optimize\n",
    "        outputs = net(inputs)\n",
    "        loss = criterion(outputs, labels)\n",
    "        loss.backward(retain_graph=True)\n",
    "        optimizer.step()\n",
    "\n",
    "        # print statistics\n",
    "#         running_loss += loss.item()\n",
    "#         if i % 100 == 99:    # print every 100 mini-batches\n",
    "#             print('[%d, %5d] loss: %.3f' %\n",
    "#                   (epoch + 1, i + 1, running_loss / 200))\n",
    "#             running_loss = 0.0\n",
    "    correct = 0\n",
    "    total = 0\n",
    "    with torch.no_grad():\n",
    "        for data in valloader:\n",
    "            images, labels = data\n",
    "            outputs = net(images)\n",
    "            _, predicted = torch.max(outputs.data, 1)\n",
    "            total += labels.size(0)\n",
    "            correct += torch.sum(predicted == labels).item()\n",
    "    cross_accuracy.append(correct / total)\n",
    "    print('Epoch ', epoch, 'Accuracy : %d %%' % (\n",
    "        100 * correct / total))\n",
    "\n",
    "print('Finished Training')"
   ]
  },
  {
   "cell_type": "code",
   "execution_count": 11,
   "metadata": {},
   "outputs": [
    {
     "data": {
      "image/png": "[encoded data removed]",
      "text/plain": [
       "<Figure size 432x288 with 1 Axes>"
      ]
     },
     "metadata": {
      "needs_background": "light"
     },
     "output_type": "display_data"
    },
    {
     "data": {
      "image/png": "[encoded data removed]",
      "text/plain": [
       "<Figure size 432x288 with 1 Axes>"
      ]
     },
     "metadata": {
      "needs_background": "light"
     },
     "output_type": "display_data"
    }
   ],
   "source": [
    "import matplotlib.pyplot as plt\n",
    "\n",
    "plt.figure()\n",
    "plt.plot(minee_accuracy, label='Minee')\n",
    "plt.plot(cross_accuracy, label='cross entropy')\n",
    "plt.legend()\n",
    "plt.xlabel('Epoch')\n",
    "plt.ylabel('Accuracy')\n",
    "plt.show()\n",
    "\n",
    "plt.figure()\n",
    "plt.plot(minee_loss, label='Entropy estimate')\n",
    "plt.xlabel('epoch')\n",
    "plt.ylabel('entropy')\n",
    "plt.legend()\n",
    "plt.show()"
   ]
  },
  {
   "cell_type": "code",
   "execution_count": 20,
   "metadata": {
    "scrolled": true
   },
   "outputs": [
    {
     "data": {
      "image/png": "[encoded data removed]",
      "text/plain": [
       "<Figure size 432x288 with 1 Axes>"
      ]
     },
     "metadata": {
      "needs_background": "light"
     },
     "output_type": "display_data"
    },
    {
     "name": "stdout",
     "output_type": "stream",
     "text": [
      "GroundTruth:      7     2     1     0\n"
     ]
    }
   ],
   "source": [
    "dataiter = iter(testloader)\n",
    "images, labels = dataiter.next()\n",
    " \n",
    "# print images \n",
    "imshow(torchvision.utils.make_grid(images)) \n",
    "print('GroundTruth: ', ' '.join('%5s' % classes[labels[j]] for j in range(4))) "
   ]
  },
  {
   "cell_type": "code",
   "execution_count": 21,
   "metadata": {},
   "outputs": [],
   "source": [
    "outputs = net(images)"
   ]
  },
  {
   "cell_type": "code",
   "execution_count": 22,
   "metadata": {},
   "outputs": [
    {
     "name": "stdout",
     "output_type": "stream",
     "text": [
      "Predicted:      7     2     1     0\n"
     ]
    }
   ],
   "source": [
    "_, predicted = torch.max(outputs, 1)\n",
    "\n",
    "print('Predicted: ', ' '.join('%5s' % classes[predicted[j]]\n",
    "                              for j in range(4)))"
   ]
  },
  {
   "cell_type": "code",
   "execution_count": 23,
   "metadata": {},
   "outputs": [
    {
     "name": "stdout",
     "output_type": "stream",
     "text": [
      "Accuracy of the network on the 10000 test images: 97 %\n"
     ]
    }
   ],
   "source": [
    "correct = 0\n",
    "total = 0\n",
    "with torch.no_grad():\n",
    "    for data in testloader:\n",
    "        images, labels = data\n",
    "        outputs = net(images)\n",
    "        _, predicted = torch.max(outputs.data, 1)\n",
    "        total += labels.size(0)\n",
    "        correct += torch.sum(predicted == labels).item()\n",
    "\n",
    "print('Accuracy of the network on the 10000 test images: %d %%' % (\n",
    "    100 * correct / total))"
   ]
  },
  {
   "cell_type": "code",
   "execution_count": 24,
   "metadata": {
    "scrolled": true
   },
   "outputs": [
    {
     "name": "stdout",
     "output_type": "stream",
     "text": [
      "Accuracy of     0 : 100 %\n",
      "Accuracy of     1 : 96 %\n",
      "Accuracy of     2 : 95 %\n",
      "Accuracy of     3 : 96 %\n",
      "Accuracy of     4 : 100 %\n",
      "Accuracy of     5 : 95 %\n",
      "Accuracy of     6 : 96 %\n",
      "Accuracy of     7 : 100 %\n",
      "Accuracy of     8 : 100 %\n",
      "Accuracy of     9 : 94 %\n"
     ]
    }
   ],
   "source": [
    "class_correct = list(0. for i in range(10))\n",
    "class_total = list(0. for i in range(10))\n",
    "with torch.no_grad():\n",
    "    for data in testloader:\n",
    "        images, labels = data\n",
    "        outputs = net(images)\n",
    "        _, predicted = torch.max(outputs, 1)\n",
    "        c = (predicted == labels).squeeze()\n",
    "        for i in range(4):\n",
    "            label = labels[i]\n",
    "            class_correct[label] += c[i].item()\n",
    "            class_total[label] += 1\n",
    "\n",
    "\n",
    "for i in range(10):\n",
    "    print('Accuracy of %5s : %2d %%' % (\n",
    "        classes[i], 100 * class_correct[i] / class_total[i]))"
   ]
  },
  {
   "cell_type": "code",
   "execution_count": null,
   "metadata": {},
   "outputs": [],
   "source": []
  }
 ],
 "metadata": {
  "kernelspec": {
   "display_name": "Python 3",
   "language": "python",
   "name": "python3"
  },
  "language_info": {
   "codemirror_mode": {
    "name": "ipython",
    "version": 3
   },
   "file_extension": ".py",
   "mimetype": "text/x-python",
   "name": "python",
   "nbconvert_exporter": "python",
   "pygments_lexer": "ipython3",
   "version": "3.7.4"
  }
 },
 "nbformat": 4,
 "nbformat_minor": 2
}
